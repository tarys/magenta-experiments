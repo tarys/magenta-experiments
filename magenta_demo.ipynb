{
 "cells": [
  {
   "cell_type": "markdown",
   "metadata": {
    "id": "dPkdg9jTjkTd"
   },
   "source": [
    "# Створення музики за допомогою Magenta\n",
    "\n",
    "[Magenta](https://magenta.tensorflow.org/) бібліотека для мови програмування Python для генерації музики та образотворчого мистецтва."
   ]
  },
  {
   "cell_type": "markdown",
   "metadata": {},
   "source": [
    "# Рекурентні нейронні мережі (RNN)"
   ]
  },
  {
   "cell_type": "markdown",
   "metadata": {},
   "source": [
    "![Розгорнута мережа](images/rnn_unrolled.png)"
   ]
  },
  {
   "cell_type": "markdown",
   "metadata": {},
   "source": [
    "https://colah.github.io/posts/2015-08-Understanding-LSTMs/"
   ]
  },
  {
   "cell_type": "markdown",
   "metadata": {},
   "source": [
    "# Локальні налаштування"
   ]
  },
  {
   "cell_type": "markdown",
   "metadata": {},
   "source": [
    "Завантаження бібліотек:"
   ]
  },
  {
   "cell_type": "code",
   "execution_count": null,
   "metadata": {},
   "outputs": [],
   "source": [
    "import sys\n",
    "!{sys.executable} -m pip install magenta==2.1.3 pretty-midi==0.2.9 pyFluidSynth==1.3.0 tensorflow==2.3.1"
   ]
  },
  {
   "cell_type": "code",
   "execution_count": null,
   "metadata": {},
   "outputs": [],
   "source": [
    "import note_seq\n",
    "\n",
    "from magenta.models.melody_rnn import melody_rnn_sequence_generator\n",
    "from magenta.models.polyphony_rnn import polyphony_sequence_generator\n",
    "from magenta.models.performance_rnn import performance_sequence_generator\n",
    "from magenta.models.shared import sequence_generator_bundle\n",
    "\n",
    "from note_seq.protobuf import generator_pb2\n",
    "from note_seq.protobuf import music_pb2\n",
    "\n",
    "from note_seq.sequences_lib import repeat_sequence_to_duration"
   ]
  },
  {
   "cell_type": "markdown",
   "metadata": {},
   "source": [
    "Допоміжні функції:"
   ]
  },
  {
   "cell_type": "code",
   "execution_count": null,
   "metadata": {
    "collapsed": false,
    "jupyter": {
     "outputs_hidden": false
    },
    "pycharm": {
     "name": "#%%\n"
    }
   },
   "outputs": [],
   "source": [
    "def play(seq):\n",
    "    note_seq.plot_sequence(seq)\n",
    "    note_seq.play_sequence(seq, synth=note_seq.fluidsynth)\n",
    "    \n",
    "def compose(input_melody, rnn, temperature):\n",
    "    start_time = input_melody.total_time\n",
    "    end_time = 2 * input_melody.total_time\n",
    "\n",
    "    generator_options = generator_pb2.GeneratorOptions()\n",
    "    generator_options.args['temperature'].float_value = temperature\n",
    "    generator_options.generate_sections.add(start_time=start_time, end_time=end_time)\n",
    "    \n",
    "    result = rnn.generate(input_melody, generator_options)\n",
    "    \n",
    "    return result\n",
    "\n",
    "def merge_from(seq1, seq2=None):\n",
    "\n",
    "    result=music_pb2.NoteSequence()\n",
    "    result.ticks_per_quarter = seq1.ticks_per_quarter\n",
    "\n",
    "    for t in seq1.tempos:\n",
    "        result.tempos.add(qpm=t.qpm)\n",
    "\n",
    "    for ks in seq1.key_signatures:\n",
    "        result.key_signatures.add(key=ks.key)\n",
    "\n",
    "    for ts in seq1.time_signatures:\n",
    "        result.time_signatures.add(numerator=ts.numerator,\n",
    "                                   denominator=ts.denominator)\n",
    "\n",
    "    max_instrument_seq1 = 0\n",
    "    for note in seq1.notes:\n",
    "        instrument = note.instrument if note.instrument else 1\n",
    "            \n",
    "        if instrument > max_instrument_seq1:\n",
    "            max_instrument_seq1 = instrument\n",
    "        \n",
    "        result.notes.add(pitch=note.pitch,\n",
    "                         velocity=note.velocity,\n",
    "                         start_time=note.start_time,\n",
    "                         end_time=note.end_time,\n",
    "                         program=note.program,\n",
    "                         instrument=instrument,\n",
    "                         is_drum=note.is_drum)\n",
    "\n",
    "    if seq2:\n",
    "        for note in seq2.notes:\n",
    "            result.notes.add(pitch=note.pitch,\n",
    "                             velocity=note.velocity,\n",
    "                             start_time=note.start_time,\n",
    "                             end_time=note.end_time,\n",
    "                             program=note.program,\n",
    "                             instrument=note.instrument + max_instrument_seq1,\n",
    "                             is_drum=note.is_drum)\n",
    "\n",
    "    for cc in seq1.control_changes:\n",
    "        instrument = cc.instrument if cc.instrument else 1\n",
    "            \n",
    "        result.control_changes.add(control_number=cc.control_number,\n",
    "                                   control_value=cc.control_value,\n",
    "                                   instrument=instrument,\n",
    "                                   program=cc.program,\n",
    "                                   is_drum=cc.is_drum)\n",
    "        \n",
    "    if seq2:\n",
    "        for cc in seq2.control_changes:\n",
    "            result.control_changes.add(control_number=cc.control_number,\n",
    "                                       control_value=cc.control_value,\n",
    "                                       instrument=cc.instrument + max_instrument_seq1,\n",
    "                                       program=cc.program,\n",
    "                                       is_drum=cc.is_drum)\n",
    "\n",
    "    for ii in seq1.instrument_infos:\n",
    "        instrument = ii.instrument if ii.instrument else 1\n",
    "        \n",
    "        result.instrument_infos.add(name=ii.name,\n",
    "                                    instrument=instrument)\n",
    "    if seq2:\n",
    "        for ii in seq2.instrument_infos:\n",
    "            result.instrument_infos.add(name=ii.name,\n",
    "                                        instrument=ii.instrument + max_instrument_seq1)       \n",
    "\n",
    "    result.source_info.encoding_type = seq1.source_info.encoding_type\n",
    "    result.source_info.parser = seq1.source_info.parser\n",
    "    result.total_time = seq1.total_time\n",
    "\n",
    "    return result"
   ]
  },
  {
   "cell_type": "markdown",
   "metadata": {
    "id": "_Pm3kdH0-DaH"
   },
   "source": [
    "# Продовження одноголосної мелодії"
   ]
  },
  {
   "cell_type": "markdown",
   "metadata": {},
   "source": [
    "Імпорт одноголосного музичного файлу \"Щедрик\":"
   ]
  },
  {
   "cell_type": "code",
   "execution_count": null,
   "metadata": {},
   "outputs": [],
   "source": [
    "schedrik_mono = note_seq.midi_file_to_note_sequence(\"schedrik_mono.mid\")\n",
    "play(schedrik_mono)"
   ]
  },
  {
   "cell_type": "markdown",
   "metadata": {},
   "source": [
    "Завантаження моделі:"
   ]
  },
  {
   "cell_type": "code",
   "execution_count": null,
   "metadata": {
    "collapsed": false,
    "jupyter": {
     "outputs_hidden": false
    },
    "pycharm": {
     "name": "#%%\n"
    }
   },
   "outputs": [],
   "source": [
    "note_seq.notebook_utils.download_bundle(\"lookback_rnn.mag\", \"models/\")"
   ]
  },
  {
   "cell_type": "markdown",
   "metadata": {
    "pycharm": {
     "name": "#%% md\n"
    }
   },
   "source": [
    "Ініціалізація моделі:"
   ]
  },
  {
   "cell_type": "code",
   "execution_count": null,
   "metadata": {
    "collapsed": false,
    "jupyter": {
     "outputs_hidden": false
    },
    "pycharm": {
     "name": "#%%\n"
    }
   },
   "outputs": [],
   "source": [
    "lookback_bundle = sequence_generator_bundle.read_bundle_file(\"models/lookback_rnn.mag\")\n",
    "lookback_generator_map = melody_rnn_sequence_generator.get_generator_map()\n",
    "lookback_rnn = lookback_generator_map['lookback_rnn'](checkpoint=None, bundle=lookback_bundle)\n",
    "lookback_rnn.initialize()"
   ]
  },
  {
   "cell_type": "markdown",
   "metadata": {},
   "source": [
    "Продовження мелодії:"
   ]
  },
  {
   "cell_type": "code",
   "execution_count": null,
   "metadata": {},
   "outputs": [],
   "source": [
    "schedrik_mono_continued = compose(schedrik_mono, lookback_rnn, 0.5)\n",
    "play(schedrik_mono_continued)"
   ]
  },
  {
   "cell_type": "markdown",
   "metadata": {},
   "source": [
    "# Продовження багатоголосної мелодії"
   ]
  },
  {
   "cell_type": "markdown",
   "metadata": {},
   "source": [
    "Імпорт багатоголосного музичного файлу \"Щедрик\":"
   ]
  },
  {
   "cell_type": "code",
   "execution_count": null,
   "metadata": {},
   "outputs": [],
   "source": [
    "schedrik_poly = note_seq.midi_file_to_note_sequence(\"schedrik_poly.mid\")\n",
    "play(schedrik_poly)"
   ]
  },
  {
   "cell_type": "markdown",
   "metadata": {},
   "source": [
    "Завантаження моделі:"
   ]
  },
  {
   "cell_type": "code",
   "execution_count": null,
   "metadata": {
    "collapsed": false,
    "jupyter": {
     "outputs_hidden": false
    },
    "pycharm": {
     "name": "#%%\n"
    }
   },
   "outputs": [],
   "source": [
    "note_seq.notebook_utils.download_bundle(\"polyphony_rnn.mag\", \"models/\")"
   ]
  },
  {
   "cell_type": "markdown",
   "metadata": {},
   "source": [
    "Ініціалізація моделі:"
   ]
  },
  {
   "cell_type": "code",
   "execution_count": null,
   "metadata": {
    "collapsed": false,
    "jupyter": {
     "outputs_hidden": false
    },
    "pycharm": {
     "name": "#%%\n"
    }
   },
   "outputs": [],
   "source": [
    "polyphony_bundle = sequence_generator_bundle.read_bundle_file(\"models/polyphony_rnn.mag\")\n",
    "polyphony_generator_map = polyphony_sequence_generator.get_generator_map()\n",
    "polyphony_rnn = polyphony_generator_map[\"polyphony\"](checkpoint=None, bundle=polyphony_bundle)\n",
    "polyphony_rnn.initialize()"
   ]
  },
  {
   "cell_type": "markdown",
   "metadata": {},
   "source": [
    "Продовження мелодії:"
   ]
  },
  {
   "cell_type": "code",
   "execution_count": null,
   "metadata": {},
   "outputs": [],
   "source": [
    "schedrik_poly_continued = compose(schedrik_poly, polyphony_rnn, 0.7)\n",
    "play(schedrik_poly_continued)"
   ]
  },
  {
   "cell_type": "markdown",
   "metadata": {
    "jupyter": {
     "outputs_hidden": false
    },
    "pycharm": {
     "name": "#%% md\n"
    }
   },
   "source": [
    "# Сучасна композиція"
   ]
  },
  {
   "cell_type": "markdown",
   "metadata": {},
   "source": [
    "Імпорт вступу відомої пісні:"
   ]
  },
  {
   "cell_type": "code",
   "execution_count": null,
   "metadata": {
    "collapsed": false,
    "jupyter": {
     "outputs_hidden": false
    },
    "pycharm": {
     "name": "#%%\n"
    }
   },
   "outputs": [],
   "source": [
    "famous = note_seq.midi_file_to_note_sequence(\"famous.mid\")\n",
    "play(famous)"
   ]
  },
  {
   "cell_type": "markdown",
   "metadata": {
    "pycharm": {
     "name": "#%% md\n"
    }
   },
   "source": [
    "Виокремлена основна мелодія:"
   ]
  },
  {
   "cell_type": "code",
   "execution_count": null,
   "metadata": {
    "collapsed": false,
    "jupyter": {
     "outputs_hidden": false
    },
    "pycharm": {
     "name": "#%%\n"
    }
   },
   "outputs": [],
   "source": [
    "famous_theme = note_seq.midi_file_to_note_sequence(\"famous_theme.mid\")\n",
    "play(famous_theme)"
   ]
  },
  {
   "cell_type": "markdown",
   "metadata": {},
   "source": [
    "Підготовка акомпанементу:"
   ]
  },
  {
   "cell_type": "code",
   "execution_count": null,
   "metadata": {},
   "outputs": [],
   "source": [
    "famous_backing = note_seq.midi_file_to_note_sequence(\"famous_backing.mid\")\n",
    "famous_backing_doubled = repeat_sequence_to_duration(famous_backing, famous_backing.total_time * 2)"
   ]
  },
  {
   "cell_type": "markdown",
   "metadata": {},
   "source": [
    "Святославе Івановвичу, пробачте:"
   ]
  },
  {
   "cell_type": "code",
   "execution_count": null,
   "metadata": {},
   "outputs": [],
   "source": [
    "famous_candidate = compose(famous_theme, lookback_rnn, 0.8)\n",
    "\n",
    "with_backing = merge_from(famous_candidate, famous_backing_doubled)\n",
    "play(with_backing)"
   ]
  },
  {
   "cell_type": "markdown",
   "metadata": {},
   "source": [
    "# Про мене"
   ]
  },
  {
   "cell_type": "markdown",
   "metadata": {},
   "source": [
    "![Про мене](images/about_me.png)"
   ]
  }
 ],
 "metadata": {
  "colab": {
   "collapsed_sections": [],
   "name": "Hello Magenta.ipynb",
   "provenance": [],
   "toc_visible": true
  },
  "kernelspec": {
   "display_name": "Python 3",
   "language": "python",
   "name": "python3"
  },
  "language_info": {
   "codemirror_mode": {
    "name": "ipython",
    "version": 3
   },
   "file_extension": ".py",
   "mimetype": "text/x-python",
   "name": "python",
   "nbconvert_exporter": "python",
   "pygments_lexer": "ipython3",
   "version": "3.7.9"
  }
 },
 "nbformat": 4,
 "nbformat_minor": 4
}
