{
 "cells": [
  {
   "cell_type": "markdown",
   "metadata": {
    "id": "dPkdg9jTjkTd"
   },
   "source": [
    "# Створення музики за допомогою Magenta\n",
    "\n",
    "[Magenta](https://magenta.tensorflow.org/) бібліотека для мови програмування Python для генерації музики та образотворчого мистецтва."
   ]
  },
  {
   "cell_type": "markdown",
   "metadata": {},
   "source": [
    "# Локальні налаштування"
   ]
  },
  {
   "cell_type": "markdown",
   "metadata": {},
   "source": [
    "Завантаження бібліотек:"
   ]
  },
  {
   "cell_type": "code",
   "execution_count": null,
   "metadata": {},
   "outputs": [],
   "source": [
    "import sys\n",
    "!{sys.executable} -m pip install magenta==2.1.3 pretty-midi==0.2.9 pyFluidSynth==1.3.0 tensorflow==2.3.1\n",
    "\n",
    "print(\"SUCCESS\")"
   ]
  },
  {
   "cell_type": "code",
   "execution_count": null,
   "metadata": {},
   "outputs": [],
   "source": [
    "print(\"Importing libraries...\")\n",
    "\n",
    "import magenta\n",
    "import note_seq\n",
    "import tensorflow\n",
    "\n",
    "from magenta.models.melody_rnn import melody_rnn_sequence_generator\n",
    "from magenta.models.polyphony_rnn import polyphony_sequence_generator\n",
    "from magenta.models.shared import sequence_generator_bundle\n",
    "\n",
    "from note_seq.protobuf import generator_pb2\n",
    "\n",
    "print(magenta.__version__)\n",
    "print(tensorflow.__version__)"
   ]
  },
  {
   "cell_type": "markdown",
   "metadata": {
    "id": "_Pm3kdH0-DaH"
   },
   "source": [
    "# Продовження одноголосної мелодії"
   ]
  },
  {
   "cell_type": "markdown",
   "metadata": {},
   "source": [
    "Імпорт одноголосного музичного файлу \"Щедрик\":"
   ]
  },
  {
   "cell_type": "code",
   "execution_count": null,
   "metadata": {},
   "outputs": [],
   "source": [
    "schedrik_mono = note_seq.midi_file_to_note_sequence(\"schedrik_mono.mid\")\n",
    "\n",
    "note_seq.plot_sequence(schedrik_mono)\n",
    "note_seq.play_sequence(schedrik_mono, synth=note_seq.fluidsynth)"
   ]
  },
  {
   "cell_type": "markdown",
   "metadata": {},
   "source": [
    "Завантаження моделі:"
   ]
  },
  {
   "cell_type": "code",
   "execution_count": null,
   "metadata": {
    "collapsed": false,
    "jupyter": {
     "outputs_hidden": false
    },
    "pycharm": {
     "name": "#%%\n"
    }
   },
   "outputs": [],
   "source": [
    "note_seq.notebook_utils.download_bundle(\"lookback_rnn.mag\", \"models/\")"
   ]
  },
  {
   "cell_type": "markdown",
   "metadata": {
    "pycharm": {
     "name": "#%% md\n"
    }
   },
   "source": [
    "Ініціалізація моделі:"
   ]
  },
  {
   "cell_type": "code",
   "execution_count": null,
   "metadata": {
    "collapsed": false,
    "jupyter": {
     "outputs_hidden": false
    },
    "pycharm": {
     "name": "#%%\n"
    }
   },
   "outputs": [],
   "source": [
    "lookback_bundle = sequence_generator_bundle.read_bundle_file(\"models/lookback_rnn.mag\")\n",
    "lookback_generator_map = melody_rnn_sequence_generator.get_generator_map()\n",
    "lookback_rnn = lookback_generator_map['lookback_rnn'](checkpoint=None, bundle=lookback_bundle)\n",
    "lookback_rnn.initialize()"
   ]
  },
  {
   "cell_type": "markdown",
   "metadata": {},
   "source": [
    "Налаштування моделі:"
   ]
  },
  {
   "cell_type": "code",
   "execution_count": null,
   "metadata": {},
   "outputs": [],
   "source": [
    "input_melody = schedrik_mono\n",
    "rnn = lookback_rnn\n",
    "num_steps = 16 * 3 * rnn.steps_per_quarter\n",
    "temperature = 0.5\n",
    "\n",
    "qpm = input_melody.tempos[0].qpm\n",
    "seconds_per_step = 60.0 / qpm / rnn.steps_per_quarter\n",
    "\n",
    "start_time=input_melody.total_time\n",
    "end_time = start_time + num_steps * seconds_per_step\n",
    "\n",
    "generator_options = generator_pb2.GeneratorOptions()\n",
    "generator_options.args['temperature'].float_value = temperature\n",
    "generator_options.generate_sections.add(start_time=start_time, end_time=end_time)"
   ]
  },
  {
   "cell_type": "markdown",
   "metadata": {},
   "source": [
    "Власне, продовження мелодії:"
   ]
  },
  {
   "cell_type": "code",
   "execution_count": null,
   "metadata": {},
   "outputs": [],
   "source": [
    "continued_melody = rnn.generate(input_melody, generator_options)\n",
    "\n",
    "note_seq.plot_sequence(continued_melody)\n",
    "note_seq.play_sequence(continued_melody, synth=note_seq.fluidsynth)"
   ]
  },
  {
   "cell_type": "markdown",
   "metadata": {},
   "source": [
    "# Продовження багатоголосної мелодії"
   ]
  },
  {
   "cell_type": "markdown",
   "metadata": {},
   "source": [
    "Імпорт багатоголосного музичного файлу \"Щедрик\":"
   ]
  },
  {
   "cell_type": "code",
   "execution_count": null,
   "metadata": {},
   "outputs": [],
   "source": [
    "schedrik_poly = note_seq.midi_file_to_note_sequence(\"schedrik_poly.mid\")\n",
    "\n",
    "note_seq.plot_sequence(schedrik_poly)\n",
    "note_seq.play_sequence(schedrik_poly, synth=note_seq.fluidsynth)"
   ]
  },
  {
   "cell_type": "markdown",
   "metadata": {},
   "source": [
    "Завантаження моделі:"
   ]
  },
  {
   "cell_type": "code",
   "execution_count": null,
   "metadata": {
    "collapsed": false,
    "jupyter": {
     "outputs_hidden": false
    },
    "pycharm": {
     "name": "#%%\n"
    }
   },
   "outputs": [],
   "source": [
    "note_seq.notebook_utils.download_bundle(\"polyphony_rnn.mag\", \"models/\")"
   ]
  },
  {
   "cell_type": "markdown",
   "metadata": {},
   "source": [
    "Ініціалізація моделі:"
   ]
  },
  {
   "cell_type": "code",
   "execution_count": null,
   "metadata": {
    "collapsed": false,
    "jupyter": {
     "outputs_hidden": false
    },
    "pycharm": {
     "name": "#%%\n"
    }
   },
   "outputs": [],
   "source": [
    "polyphony_bundle = sequence_generator_bundle.read_bundle_file(\"models/polyphony_rnn.mag\")\n",
    "polyphony_generator_map = polyphony_sequence_generator.get_generator_map()\n",
    "polyphony_rnn = polyphony_generator_map[\"polyphony\"](checkpoint=None, bundle=polyphony_bundle)\n",
    "polyphony_rnn.initialize()"
   ]
  },
  {
   "cell_type": "markdown",
   "metadata": {},
   "source": [
    "Налаштування моделі:"
   ]
  },
  {
   "cell_type": "code",
   "execution_count": null,
   "metadata": {},
   "outputs": [],
   "source": [
    "input_melody = schedrik_poly\n",
    "rnn = polyphony_rnn\n",
    "num_steps = 32 * 3 * rnn.steps_per_quarter\n",
    "temperature = 0.7\n",
    "\n",
    "qpm = input_melody.tempos[0].qpm\n",
    "seconds_per_step = 60.0 / qpm / rnn.steps_per_quarter\n",
    "\n",
    "start_time=input_melody.total_time\n",
    "end_time = start_time + num_steps * seconds_per_step\n",
    "\n",
    "generator_options = generator_pb2.GeneratorOptions()\n",
    "generator_options.args['temperature'].float_value = temperature\n",
    "generator_options.generate_sections.add(start_time=start_time, end_time=end_time)"
   ]
  },
  {
   "cell_type": "markdown",
   "metadata": {},
   "source": [
    "Власне, продовження мелодії:"
   ]
  },
  {
   "cell_type": "code",
   "execution_count": null,
   "metadata": {},
   "outputs": [],
   "source": [
    "continued_melody = rnn.generate(input_melody, generator_options)\n",
    "\n",
    "note_seq.plot_sequence(continued_melody)\n",
    "note_seq.play_sequence(continued_melody, synth=note_seq.fluidsynth)"
   ]
  }
 ],
 "metadata": {
  "colab": {
   "collapsed_sections": [],
   "name": "Hello Magenta.ipynb",
   "provenance": [],
   "toc_visible": true
  },
  "kernelspec": {
   "display_name": "Python 3",
   "language": "python",
   "name": "python3"
  },
  "language_info": {
   "codemirror_mode": {
    "name": "ipython",
    "version": 3
   },
   "file_extension": ".py",
   "mimetype": "text/x-python",
   "name": "python",
   "nbconvert_exporter": "python",
   "pygments_lexer": "ipython3",
   "version": "3.7.9"
  }
 },
 "nbformat": 4,
 "nbformat_minor": 4
}
